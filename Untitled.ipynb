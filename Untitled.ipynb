{
 "cells": [
  {
   "cell_type": "code",
   "execution_count": 1,
   "id": "7c378b2c",
   "metadata": {},
   "outputs": [
    {
     "name": "stdout",
     "output_type": "stream",
     "text": [
      "package_folder: c:\\users\\fazz communication\\appdata\\local\\programs\\python\\python38\\lib\\site-packages\\ursina\n",
      "asset_folder: c:\\users\\fazz communication\\appdata\\local\\programs\\python\\python38\\lib\\site-packages\n",
      "blender_paths:\n",
      "{}\n",
      "screen resolution: (1280, 1024)\n",
      "size; LVector2f(1024, 819)\n",
      "render mode: default\n",
      "no filter quad\n",
      "size; LVector2f(1280, 1024)\n",
      "development mode: True\n",
      "application successfully started\n",
      "no filter quad\n",
      "changed aspect ratio: 1.25 -> 1.25\n"
     ]
    },
    {
     "ename": "SystemExit",
     "evalue": "",
     "output_type": "error",
     "traceback": [
      "An exception has occurred, use %tb to see the full traceback.\n",
      "\u001b[1;31mSystemExit\u001b[0m\n"
     ]
    },
    {
     "name": "stderr",
     "output_type": "stream",
     "text": [
      "c:\\users\\fazz communication\\appdata\\local\\programs\\python\\python38\\lib\\site-packages\\IPython\\core\\interactiveshell.py:3449: UserWarning: To exit: use 'exit', 'quit', or Ctrl-D.\n",
      "  warn(\"To exit: use 'exit', 'quit', or Ctrl-D.\", stacklevel=1)\n"
     ]
    }
   ],
   "source": [
    "from ursina import *\n",
    "from ursina.prefabs.first_person_controller \\\n",
    "  import FirstPersonController\n",
    "\n",
    "\n",
    "app = Ursina()\n",
    "window.fullscreen =True\n",
    "window.color=color.black\n",
    "\n",
    "\n",
    "player = FirstPersonController(\n",
    "  collider='box',jump_duration=0.35\n",
    ")\n",
    "player.cursor.visible=False\n",
    "ground = Entity(\n",
    "  model='plane',\n",
    "  texture='grass',\n",
    "  collider='mesh',\n",
    "  scale=(30,0,3)\n",
    ")\n",
    "\n",
    "pill1 = Entity(\n",
    "  model='cube',\n",
    "  color=color.violet,\n",
    "  scale=(0.4,0.1,53),\n",
    "  z=28,x=-0.7\n",
    ")\n",
    "pill2 = duplicate(pill1,\n",
    "                  x=-3.7)\n",
    "pill3 = duplicate(pill1,\n",
    "                  x=0.6)\n",
    "pill4 = duplicate(pill1,\n",
    "                  x=3.6)\n",
    "\n",
    "\n",
    "from random import randint\n",
    "blocks = []\n",
    "for i in range(12):\n",
    "  block = Entity(\n",
    "    model='cube',collider='box',\n",
    "    color = color.white33,\n",
    "    position=(2,0.1,3+i*4),\n",
    "    scale=(3,0.1,2.5)\n",
    "  )\n",
    "  block2 = duplicate(block,\n",
    "                     x=-2.2)\n",
    "  blocks.append(\n",
    "    (block,block2,randint(0,10)>7,\n",
    "     randint(0,10)>7)\n",
    "  )\n",
    "goal = Entity(\n",
    "  color=color.brown,\n",
    "  model='cube',\n",
    "  z=55,\n",
    "  scale=(10,1,10),\n",
    ")\n",
    "pillar = Entity(\n",
    "  color=color.brown,\n",
    "  model='cube',\n",
    "  z=58,\n",
    "  scale=(1,15,1),y=8\n",
    ")\n",
    "\n",
    "def update():\n",
    "  for block1,block2,k,n in blocks:\n",
    "    for x,y in [(block1,k),\n",
    "                (block2,n)]:\n",
    "      if x.intersects() and y:\n",
    "        invoke(destroy,x,\n",
    "               delay=0.1)\n",
    "        x.fade_out(duration=0.1)\n",
    "\n",
    "def input(key):\n",
    "  if key =='q':\n",
    "    quit()\n",
    "\n",
    "\n",
    "app.run()\n"
   ]
  },
  {
   "cell_type": "code",
   "execution_count": null,
   "id": "171dd570",
   "metadata": {},
   "outputs": [],
   "source": []
  }
 ],
 "metadata": {
  "kernelspec": {
   "display_name": "Python 3",
   "language": "python",
   "name": "python3"
  },
  "language_info": {
   "codemirror_mode": {
    "name": "ipython",
    "version": 3
   },
   "file_extension": ".py",
   "mimetype": "text/x-python",
   "name": "python",
   "nbconvert_exporter": "python",
   "pygments_lexer": "ipython3",
   "version": "3.8.7"
  }
 },
 "nbformat": 4,
 "nbformat_minor": 5
}
